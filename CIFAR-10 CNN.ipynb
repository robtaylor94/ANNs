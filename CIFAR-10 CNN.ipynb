{
  "cells": [
    {
      "cell_type": "markdown",
      "metadata": {
        "id": "NRBcI2dtyRjC"
      },
      "source": [
        "### Widenet with feature attention."
      ]
    },
    {
      "cell_type": "markdown",
      "metadata": {
        "id": "jeUTRfHzAyCU"
      },
      "source": [
        "##### This notebook is a CNN for CIFAR-10 Classification. Comprehensive detailing of the architecture is available in the associated readme."
      ]
    },
    {
      "cell_type": "markdown",
      "metadata": {
        "id": "t4jpnEHayRjJ"
      },
      "source": [
        "Cell 1 - Dependencies"
      ]
    },
    {
      "cell_type": "code",
      "execution_count": 1,
      "metadata": {
        "id": "GXQTc_W7YFdd"
      },
      "outputs": [],
      "source": [
        "%matplotlib inline\n",
        "import matplotlib.pyplot as plt\n",
        "import time\n",
        "import torch\n",
        "import torch.nn.utils as nn_utils\n",
        "import torchvision.transforms as transforms\n",
        "import torchvision\n",
        "import math\n",
        "from torchvision import transforms as tt\n",
        "import numpy as np\n",
        "import torch.optim.lr_scheduler as lr_scheduler\n",
        "import torch.nn as nn\n",
        "import torch.nn.init as init\n",
        "import torch.nn.functional as F\n",
        "from torchvision.datasets import CIFAR10\n",
        "from google.colab.patches import cv2_imshow\n",
        "from torch.utils.data.dataset import Subset\n",
        "from torch.utils.data import DataLoader, random_split\n",
        "from torchvision.transforms import RandomHorizontalFlip"
      ]
    },
    {
      "cell_type": "markdown",
      "metadata": {
        "id": "32NqdYl3yRjN"
      },
      "source": [
        "Cell 2 - Appropriately setting the device"
      ]
    },
    {
      "cell_type": "code",
      "execution_count": 2,
      "metadata": {
        "colab": {
          "base_uri": "https://localhost:8080/"
        },
        "id": "P972v29oYIl0",
        "outputId": "e665300a-278c-415f-c1ce-974dea95b105"
      },
      "outputs": [
        {
          "name": "stdout",
          "output_type": "stream",
          "text": [
            "Using cuda.\n"
          ]
        }
      ],
      "source": [
        "device = torch.device('cuda' if torch.cuda.is_available() else 'cpu')\n",
        "print(f'Using {device}.')"
      ]
    },
    {
      "cell_type": "markdown",
      "metadata": {
        "id": "37i7wcaiyRjQ"
      },
      "source": [
        "## Loading, Preprocessing and Augmentation"
      ]
    },
    {
      "cell_type": "markdown",
      "metadata": {
        "id": "-aaDg_GtyRjR"
      },
      "source": [
        "Cell 3 - This cell defines a Cutout class, an augmentation technique which randomly masks out one or more square regions of an input image to enhance model robustness and generalisability"
      ]
    },
    {
      "cell_type": "code",
      "execution_count": 3,
      "metadata": {
        "id": "vTaoi8OU0xDW"
      },
      "outputs": [],
      "source": [
        "## doi.org/10.48550/arXiv.1708.04552\n",
        "## https://github.com/uoguelph-mlrg/Cutout/blob/master/util/cutout.py\n",
        "class Cutout(object):\n",
        "    def __init__(self, n_holes, length):\n",
        "        self.n_holes = n_holes\n",
        "        self.length = length\n",
        "\n",
        "    def __call__(self, img):\n",
        "        h, w = img.size(1), img.size(2)\n",
        "        mask = np.ones((h, w), np.float32)\n",
        "\n",
        "        for n in range(self.n_holes):\n",
        "            y = np.random.randint(h)\n",
        "            x = np.random.randint(w)\n",
        "\n",
        "            y1 = np.clip(y - self.length // 2, 0, h)\n",
        "            y2 = np.clip(y + self.length // 2, 0, h)\n",
        "            x1 = np.clip(x - self.length // 2, 0, w)\n",
        "            x2 = np.clip(x + self.length // 2, 0, w)\n",
        "\n",
        "            mask[y1: y2, x1: x2] = 0.\n",
        "\n",
        "        mask = torch.from_numpy(mask)\n",
        "        mask = mask.expand_as(img)\n",
        "        img = img * mask\n",
        "\n",
        "        return img"
      ]
    },
    {
      "cell_type": "markdown",
      "metadata": {
        "id": "ARuMcpQtyRjU"
      },
      "source": [
        "Cell 4 - The following cell computes the mean and standard deviation of CIFAR-10 for normalization, applies data augmentations, and prepares DataLoader instances for training, validation, and testing."
      ]
    },
    {
      "cell_type": "code",
      "execution_count": 4,
      "metadata": {
        "colab": {
          "base_uri": "https://localhost:8080/"
        },
        "id": "0qNQhcPoZE7k",
        "outputId": "ce83bc61-9dfc-4986-f93f-da7b4be932a0"
      },
      "outputs": [
        {
          "name": "stdout",
          "output_type": "stream",
          "text": [
            "Downloading https://www.cs.toronto.edu/~kriz/cifar-10-python.tar.gz to ./data/cifar-10-python.tar.gz\n"
          ]
        },
        {
          "name": "stderr",
          "output_type": "stream",
          "text": [
            "100%|██████████| 170498071/170498071 [00:06<00:00, 27909952.22it/s]\n"
          ]
        },
        {
          "name": "stdout",
          "output_type": "stream",
          "text": [
            "Extracting ./data/cifar-10-python.tar.gz to ./data\n"
          ]
        },
        {
          "name": "stderr",
          "output_type": "stream",
          "text": [
            "/usr/lib/python3.10/multiprocessing/popen_fork.py:66: RuntimeWarning: os.fork() was called. os.fork() is incompatible with multithreaded code, and JAX is multithreaded, so this will likely lead to a deadlock.\n",
            "  self.pid = os.fork()\n"
          ]
        },
        {
          "name": "stdout",
          "output_type": "stream",
          "text": [
            "Mu: tensor([0.4914, 0.4822, 0.4465]), Sigma: tensor([0.2470, 0.2435, 0.2616])\n",
            "Files already downloaded and verified\n",
            "Files already downloaded and verified\n"
          ]
        }
      ],
      "source": [
        "# derive mean and stdev\n",
        "def calculate_stats(dataset):\n",
        "    loader = DataLoader(dataset, batch_size=100, shuffle=False, num_workers=2)\n",
        "    channel_sum, channel_sum_squared, num_batches = 0, 0, 0\n",
        "\n",
        "    for data, _ in loader:\n",
        "        channel_sum += torch.mean(data, dim=[0, 2, 3])\n",
        "        channel_sum_squared += torch.mean(data ** 2, dim=[0, 2, 3])\n",
        "        num_batches += 1\n",
        "\n",
        "    mean = channel_sum / num_batches\n",
        "    std = (channel_sum_squared / num_batches - mean ** 2) ** 0.5\n",
        "    return mean, std\n",
        "\n",
        "def load_cifar10_data():\n",
        "    # load dataset with minimal transformation for stats\n",
        "    initial_transform = tt.Compose([tt.ToTensor()])\n",
        "    train_data_initial = CIFAR10(root='./data', train=True, download=True, transform=initial_transform)\n",
        "\n",
        "    # calculate means and std dev on training set only, to mitigate look-ahead bias.\n",
        "    mean, std = calculate_stats(train_data_initial)\n",
        "    print(f\"Mu: {mean}, Sigma: {std}\")\n",
        "\n",
        "    # define transformations\n",
        "    train_transform = tt.Compose([\n",
        "        tt.RandomRotation(5),\n",
        "        tt.RandomCrop(32, padding=2, padding_mode='reflect'),\n",
        "        tt.RandomHorizontalFlip(),\n",
        "        tt.ToTensor(),\n",
        "        tt.Normalize(mean=mean, std=std),\n",
        "        Cutout(n_holes=1, length=10)\n",
        "    ])\n",
        "\n",
        "    test_transform = tt.Compose([\n",
        "        tt.ToTensor(),\n",
        "        tt.Normalize(mean=mean, std=std)\n",
        "    ])\n",
        "\n",
        "    # load the dataset with transformations for training and testing\n",
        "    train_data = CIFAR10(root='./data', train=True, download=True, transform=train_transform)\n",
        "    test_data = CIFAR10(root='./data', train=False, download=True, transform=test_transform)\n",
        "\n",
        "    return train_data, test_data, mean, std\n",
        "\n",
        "train_data, test_data, mean, std = load_cifar10_data()\n",
        "\n",
        "# creating DataLoaders\n",
        "train_iter = DataLoader(train_data, batch_size=128, shuffle=True, num_workers=2, pin_memory=True)\n",
        "test_iter = DataLoader(test_data, batch_size=128, shuffle=False, num_workers=2, pin_memory=True)\n"
      ]
    },
    {
      "cell_type": "markdown",
      "metadata": {
        "id": "sGTQYTaLyRjX"
      },
      "source": [
        "Cell 5 - Batch Request"
      ]
    },
    {
      "cell_type": "code",
      "execution_count": 5,
      "metadata": {
        "colab": {
          "base_uri": "https://localhost:8080/"
        },
        "id": "L6aHHH8KZOy1",
        "outputId": "6370e1a2-7b95-4221-bf49-2cc9abc51d96"
      },
      "outputs": [
        {
          "name": "stdout",
          "output_type": "stream",
          "text": [
            "torch.Size([128, 3, 32, 32])\n",
            "torch.Size([128])\n"
          ]
        }
      ],
      "source": [
        "X, y = next(iter(train_iter))\n",
        "print(X.size())\n",
        "print(y.size())"
      ]
    },
    {
      "cell_type": "markdown",
      "metadata": {
        "id": "rLWhRvESyRjY"
      },
      "source": [
        "Cell 6 - This cell displays the first three images from CIFAR-10 with class labels."
      ]
    },
    {
      "cell_type": "code",
      "execution_count": 6,
      "metadata": {
        "colab": {
          "base_uri": "https://localhost:8080/",
          "height": 277
        },
        "id": "CK2Ozj5bZSM4",
        "outputId": "f1f6161c-cb56-4254-daf8-46b0fa219f9f"
      },
      "outputs": [
        {
          "name": "stdout",
          "output_type": "stream",
          "text": [
            "\n",
            "Image 0 (dog):\n",
            "\n"
          ]
        },
        {
          "data": {
            "image/png": "[encoded data removed]",
            "text/plain": [
              "<PIL.Image.Image image mode=RGB size=32x32>"
            ]
          },
          "metadata": {},
          "output_type": "display_data"
        },
        {
          "name": "stdout",
          "output_type": "stream",
          "text": [
            "\n",
            "Image 1 (automobile):\n",
            "\n"
          ]
        },
        {
          "data": {
            "image/png": "[encoded data removed]",
            "text/plain": [
              "<PIL.Image.Image image mode=RGB size=32x32>"
            ]
          },
          "metadata": {},
          "output_type": "display_data"
        },
        {
          "name": "stdout",
          "output_type": "stream",
          "text": [
            "\n",
            "Image 2 (cat):\n",
            "\n"
          ]
        },
        {
          "data": {
            "image/png": "[encoded data removed]",
            "text/plain": [
              "<PIL.Image.Image image mode=RGB size=32x32>"
            ]
          },
          "metadata": {},
          "output_type": "display_data"
        }
      ],
      "source": [
        "class_labels = ['airplane', 'automobile', 'bird', 'cat', 'deer', 'dog', 'frog', 'horse', 'ship', 'truck']\n",
        "\n",
        "for i in range(3):\n",
        "    print(f'\\nImage {i} ({class_labels[int(y[i])]}):\\n')\n",
        "    cv2_imshow(X[i].numpy().transpose(1, 2, 0) * 255)"
      ]
    },
    {
      "cell_type": "markdown",
      "metadata": {
        "id": "6CmfGEwD6je4"
      },
      "source": [
        "## Required Blocks"
      ]
    },
    {
      "cell_type": "markdown",
      "metadata": {
        "id": "abZU5y28yRja"
      },
      "source": [
        "Cell 7 - The code below includes blocks that process inputs permitting parallel convolutional layers with varying kernel sizes, implementing what I have called a 'WeightedSum' class that assists in combining outputs based on learned importance weights."
      ]
    },
    {
      "cell_type": "code",
      "execution_count": 7,
      "metadata": {
        "id": "k_BOMZ_wM1Bw"
      },
      "outputs": [],
      "source": [
        "# this class of functions permits the pseudo-attention mechanism\n",
        "class WeightedSum(nn.Module):\n",
        "    def __init__(self, num_outputs):\n",
        "        super(WeightedSum, self).__init__()\n",
        "        self.fc = None\n",
        "        self.num_outputs = num_outputs\n",
        "\n",
        "    def forward(self, x, outputs):\n",
        "        if self.fc is None:\n",
        "            self.fc = nn.Linear(x.size(1), self.num_outputs).to(x.device)\n",
        "\n",
        "        # compute the average value of each channel in x\n",
        "        avg_per_channel = torch.mean(x, dim=[2, 3])\n",
        "\n",
        "        # compute the weight vector a\n",
        "        a = torch.sigmoid(self.fc(avg_per_channel))\n",
        "\n",
        "        x_prime = torch.zeros_like(outputs[0])\n",
        "\n",
        "        for i, output in enumerate(outputs):\n",
        "            scaling_factor = a[:, i].unsqueeze(-1).unsqueeze(-1).unsqueeze(-1)\n",
        "            x_prime += output * scaling_factor\n",
        "\n",
        "        return x_prime\n",
        "\n",
        "class IntermediateBlock(nn.Module): # intermediate blocks with parallel layers\n",
        "    def __init__(self, input_channels, output_channels, kernel_sizes, strides, paddings):\n",
        "        super(IntermediateBlock, self).__init__()\n",
        "        self.layers = nn.ModuleList([\n",
        "            nn.Sequential(\n",
        "                nn.Conv2d(input_channels, output_channels, ks, s, p),\n",
        "                nn.BatchNorm2d(output_channels), nn.ReLU(), nn.Dropout(0.2)\n",
        "            ) for ks, s, p in zip(kernel_sizes, strides, paddings)\n",
        "        ])\n",
        "        self.weighted_sum = WeightedSum(num_outputs=len(self.layers))\n",
        "\n",
        "    def forward(self, x):\n",
        "        outputs = [layer(x) for layer in self.layers]\n",
        "        x_prime = self.weighted_sum(x, outputs)\n",
        "        return x_prime\n",
        "\n",
        "class IntermediateBlockTypeA(IntermediateBlock):\n",
        "    def __init__(self, input_channels, output_channels):\n",
        "        super(IntermediateBlockTypeA, self).__init__(\n",
        "            input_channels, output_channels, [3, 5], [1, 1], [1, 2]\n",
        "            )\n",
        "\n",
        "class IntermediateBlockTypeB(IntermediateBlock):\n",
        "    def __init__(self, input_channels, output_channels):\n",
        "        super(IntermediateBlockTypeB, self).__init__(\n",
        "            input_channels, output_channels, [3, 7, 5, 6], [2, 2, 2, 2], [1, 3, 2, 2]\n",
        "            )\n"
      ]
    },
    {
      "cell_type": "markdown",
      "metadata": {
        "id": "wh1XYmsAyRjc"
      },
      "source": [
        "## Additional Blocks"
      ]
    },
    {
      "cell_type": "markdown",
      "metadata": {
        "id": "elIqW7VnyRjd"
      },
      "source": [
        "Cell 8 - This defines a ResNet block with a shortcut connection"
      ]
    },
    {
      "cell_type": "code",
      "execution_count": 8,
      "metadata": {
        "id": "zzNtbX9L4FzD"
      },
      "outputs": [],
      "source": [
        "class ResNet(nn.Module):  # ResNet block\n",
        "    def __init__(self, input_channels, output_channels, stride=1):\n",
        "        super(ResNet, self).__init__()\n",
        "        self.seq = nn.Sequential(\n",
        "            nn.Conv2d(input_channels, output_channels, 3, stride=1, padding=1, bias=True),\n",
        "            nn.BatchNorm2d(output_channels), nn.ReLU(), nn.Dropout(0.2),\n",
        "            nn.Conv2d(output_channels, output_channels, 3, stride, 1, bias=True),\n",
        "            nn.BatchNorm2d(output_channels), nn.ReLU(), nn.Dropout(0.2),\n",
        "        )\n",
        "        self.shortcut = nn.Sequential(\n",
        "            nn.Conv2d(input_channels, output_channels, 1, stride, bias=True)\n",
        "        ) if stride != 1 or input_channels != output_channels else nn.Sequential()\n",
        "\n",
        "    def forward(self, x):\n",
        "        out = self.seq(x)\n",
        "        shortcut = self.shortcut(x)\n",
        "        out += shortcut\n",
        "        return out"
      ]
    },
    {
      "cell_type": "markdown",
      "metadata": {
        "id": "ReKzU-eeyRje"
      },
      "source": [
        "## Required Output Block"
      ]
    },
    {
      "cell_type": "markdown",
      "metadata": {
        "id": "iUZP98YgyRjf"
      },
      "source": [
        "Cell 9 - Output block, averaging each channel of the input, flattening it to a vector, and applying a FLC to result in a logits vector."
      ]
    },
    {
      "cell_type": "code",
      "execution_count": 9,
      "metadata": {
        "id": "EDW3Jd_mdxdh"
      },
      "outputs": [],
      "source": [
        "class OutputBlock(nn.Module):\n",
        "    def __init__(self, input_channels, num_outputs):\n",
        "        super(OutputBlock, self).__init__()\n",
        "        # initialise FCLs according to # of channels\n",
        "        self.linear = nn.Linear(input_channels, num_outputs)\n",
        "\n",
        "    def forward(self, x):\n",
        "        # compute avg of each channel in x and flatten to form vector m\n",
        "        m = F.avg_pool2d(x, kernel_size=x.size()[2:]).squeeze(-1).squeeze(-1)\n",
        "        o = self.linear(m)\n",
        "        return o"
      ]
    },
    {
      "cell_type": "markdown",
      "metadata": {
        "id": "_jstCHzx6dWo"
      },
      "source": [
        "## High-level architecture"
      ]
    },
    {
      "cell_type": "markdown",
      "metadata": {
        "id": "WjJIwIT5yRjh"
      },
      "source": [
        "Cell 10 - This class outlines the structure of the neural network."
      ]
    },
    {
      "cell_type": "code",
      "execution_count": 10,
      "metadata": {
        "id": "mb6ZCd5Ji5jR"
      },
      "outputs": [],
      "source": [
        "class RobNet(nn.Module):\n",
        "    def __init__(self, num_outputs):\n",
        "        super(RobNet, self).__init__()\n",
        "\n",
        "        self.first_block = IntermediateBlockTypeA(3, 8) # input layer\n",
        "\n",
        "        self.intermediate_blocks = nn.Sequential(\n",
        "            IntermediateBlockTypeB(8, 64),\n",
        "            IntermediateBlockTypeA(64, 256),\n",
        "        )\n",
        "\n",
        "        self.resnet_blocks = nn.Sequential(\n",
        "            ResNet(256, 512, stride=2),\n",
        "            ResNet(512, 1024, stride=1),\n",
        "            ResNet(1024, 1024, stride=2), # width is all you need\n",
        "            ResNet(1024, 256, stride=1),\n",
        "        )\n",
        "\n",
        "        self.output_block = OutputBlock(input_channels=256, num_outputs=num_outputs)\n",
        "\n",
        "    def forward(self, x):\n",
        "        x = self.first_block(x)\n",
        "        x = self.intermediate_blocks(x)\n",
        "        x = self.resnet_blocks(x)\n",
        "        x = self.output_block(x)\n",
        "        return x"
      ]
    },
    {
      "cell_type": "markdown",
      "metadata": {
        "id": "I1bWZuTTpr0-"
      },
      "source": [
        "## Optimiser, Loss Function params\n"
      ]
    },
    {
      "cell_type": "markdown",
      "metadata": {
        "id": "d3fys2_GyRjj"
      },
      "source": [
        "Cell 11 - Initialising the model with output # and loss related parameters."
      ]
    },
    {
      "cell_type": "code",
      "execution_count": 11,
      "metadata": {
        "id": "N60NFd7Qpwzu"
      },
      "outputs": [],
      "source": [
        "num_outputs = 10\n",
        "\n",
        "# nesterov momentum w/ SGD\n",
        "model = RobNet(num_outputs=num_outputs).to(device)\n",
        "optimizer = torch.optim.SGD(\n",
        "        model.parameters(),\n",
        "        lr=0.1,\n",
        "        momentum=0.9,\n",
        "        weight_decay=0.0001,\n",
        "        nesterov=True\n",
        "        )\n",
        "\n",
        "loss_fn = torch.nn.CrossEntropyLoss()\n",
        "\n",
        "scheduler = torch.optim.lr_scheduler.LambdaLR(optimizer, lr_lambda=lambda epoch: math.exp(-0.06 * epoch)) # gradual LR decay"
      ]
    },
    {
      "cell_type": "markdown",
      "metadata": {
        "id": "3b2yKjBup7tB"
      },
      "source": [
        "## Training and Evaluation"
      ]
    },
    {
      "cell_type": "markdown",
      "metadata": {
        "id": "gVNFIyCNyRjl"
      },
      "source": [
        "Cell 12 - This executes the training loop, calculating and updating loss & accuracy for training and validation sets per epoch, applying gradient clipping and adjusting the learning rate per epoch."
      ]
    },
    {
      "cell_type": "code",
      "execution_count": 12,
      "metadata": {
        "colab": {
          "base_uri": "https://localhost:8080/"
        },
        "id": "3FPKGCJZqAln",
        "outputId": "8945680f-00aa-4644-f36d-b00c9dc4d3b5"
      },
      "outputs": [
        {
          "name": "stdout",
          "output_type": "stream",
          "text": [
            "Epoch 1 | Training: Loss 1.5301, Accuracy 0.4364; Test: Loss 1.2872, Accuracy 0.5474\n",
            "Epoch 2 | Training: Loss 1.1425, Accuracy 0.5899; Test: Loss 1.3242, Accuracy 0.5614\n",
            "Epoch 3 | Training: Loss 0.9752, Accuracy 0.6540; Test: Loss 0.8514, Accuracy 0.7047\n",
            "Epoch 4 | Training: Loss 0.8620, Accuracy 0.6968; Test: Loss 0.7979, Accuracy 0.7270\n",
            "Epoch 5 | Training: Loss 0.7804, Accuracy 0.7267; Test: Loss 0.6634, Accuracy 0.7631\n",
            "Epoch 6 | Training: Loss 0.7180, Accuracy 0.7477; Test: Loss 0.6856, Accuracy 0.7651\n",
            "Epoch 7 | Training: Loss 0.6675, Accuracy 0.7653; Test: Loss 0.5780, Accuracy 0.8009\n",
            "Epoch 8 | Training: Loss 0.6275, Accuracy 0.7811; Test: Loss 0.7018, Accuracy 0.7660\n",
            "Epoch 9 | Training: Loss 0.5924, Accuracy 0.7921; Test: Loss 0.5584, Accuracy 0.8082\n",
            "Epoch 10 | Training: Loss 0.5590, Accuracy 0.8049; Test: Loss 0.5459, Accuracy 0.8186\n",
            "Epoch 11 | Training: Loss 0.5355, Accuracy 0.8124; Test: Loss 0.5059, Accuracy 0.8287\n",
            "Epoch 12 | Training: Loss 0.5055, Accuracy 0.8230; Test: Loss 0.4723, Accuracy 0.8368\n",
            "Epoch 13 | Training: Loss 0.4816, Accuracy 0.8319; Test: Loss 0.4306, Accuracy 0.8529\n",
            "Epoch 14 | Training: Loss 0.4654, Accuracy 0.8372; Test: Loss 0.4195, Accuracy 0.8586\n",
            "Epoch 15 | Training: Loss 0.4412, Accuracy 0.8456; Test: Loss 0.3998, Accuracy 0.8663\n",
            "Epoch 16 | Training: Loss 0.4209, Accuracy 0.8524; Test: Loss 0.3789, Accuracy 0.8723\n",
            "Epoch 17 | Training: Loss 0.4060, Accuracy 0.8583; Test: Loss 0.4157, Accuracy 0.8614\n",
            "Epoch 18 | Training: Loss 0.3898, Accuracy 0.8637; Test: Loss 0.3419, Accuracy 0.8840\n",
            "Epoch 19 | Training: Loss 0.3699, Accuracy 0.8695; Test: Loss 0.3685, Accuracy 0.8752\n",
            "Epoch 20 | Training: Loss 0.3589, Accuracy 0.8747; Test: Loss 0.3533, Accuracy 0.8841\n",
            "Epoch 21 | Training: Loss 0.3475, Accuracy 0.8771; Test: Loss 0.3256, Accuracy 0.8910\n",
            "Epoch 22 | Training: Loss 0.3331, Accuracy 0.8833; Test: Loss 0.3160, Accuracy 0.8943\n",
            "Epoch 23 | Training: Loss 0.3175, Accuracy 0.8884; Test: Loss 0.3227, Accuracy 0.8946\n",
            "Epoch 24 | Training: Loss 0.3101, Accuracy 0.8895; Test: Loss 0.2991, Accuracy 0.9023\n",
            "Epoch 25 | Training: Loss 0.2925, Accuracy 0.8954; Test: Loss 0.3372, Accuracy 0.8922\n",
            "Epoch 26 | Training: Loss 0.2843, Accuracy 0.8998; Test: Loss 0.3368, Accuracy 0.8932\n",
            "Epoch 27 | Training: Loss 0.2759, Accuracy 0.9020; Test: Loss 0.2904, Accuracy 0.9045\n",
            "Epoch 28 | Training: Loss 0.2708, Accuracy 0.9037; Test: Loss 0.2923, Accuracy 0.9047\n",
            "Epoch 29 | Training: Loss 0.2592, Accuracy 0.9088; Test: Loss 0.3107, Accuracy 0.9002\n",
            "Epoch 30 | Training: Loss 0.2498, Accuracy 0.9124; Test: Loss 0.3061, Accuracy 0.9024\n",
            "Epoch 31 | Training: Loss 0.2402, Accuracy 0.9142; Test: Loss 0.3016, Accuracy 0.9039\n",
            "Epoch 32 | Training: Loss 0.2339, Accuracy 0.9171; Test: Loss 0.2825, Accuracy 0.9098\n",
            "Epoch 33 | Training: Loss 0.2228, Accuracy 0.9230; Test: Loss 0.2846, Accuracy 0.9080\n",
            "Epoch 34 | Training: Loss 0.2199, Accuracy 0.9225; Test: Loss 0.2748, Accuracy 0.9123\n",
            "Epoch 35 | Training: Loss 0.2145, Accuracy 0.9242; Test: Loss 0.2754, Accuracy 0.9122\n",
            "Epoch 36 | Training: Loss 0.2081, Accuracy 0.9269; Test: Loss 0.2760, Accuracy 0.9122\n",
            "Epoch 37 | Training: Loss 0.2011, Accuracy 0.9283; Test: Loss 0.2753, Accuracy 0.9138\n",
            "Epoch 38 | Training: Loss 0.1937, Accuracy 0.9327; Test: Loss 0.2764, Accuracy 0.9137\n",
            "Epoch 39 | Training: Loss 0.1898, Accuracy 0.9328; Test: Loss 0.2696, Accuracy 0.9179\n",
            "Epoch 40 | Training: Loss 0.1864, Accuracy 0.9327; Test: Loss 0.2673, Accuracy 0.9179\n",
            "Epoch 41 | Training: Loss 0.1763, Accuracy 0.9375; Test: Loss 0.2749, Accuracy 0.9126\n",
            "Epoch 42 | Training: Loss 0.1752, Accuracy 0.9386; Test: Loss 0.2746, Accuracy 0.9149\n",
            "Epoch 43 | Training: Loss 0.1734, Accuracy 0.9400; Test: Loss 0.2627, Accuracy 0.9197\n",
            "Epoch 44 | Training: Loss 0.1662, Accuracy 0.9401; Test: Loss 0.2664, Accuracy 0.9174\n",
            "Epoch 45 | Training: Loss 0.1638, Accuracy 0.9421; Test: Loss 0.2664, Accuracy 0.9177\n",
            "Epoch 46 | Training: Loss 0.1591, Accuracy 0.9445; Test: Loss 0.2587, Accuracy 0.9211\n",
            "Epoch 47 | Training: Loss 0.1537, Accuracy 0.9458; Test: Loss 0.2637, Accuracy 0.9208\n",
            "Epoch 48 | Training: Loss 0.1540, Accuracy 0.9452; Test: Loss 0.2634, Accuracy 0.9192\n",
            "Epoch 49 | Training: Loss 0.1496, Accuracy 0.9468; Test: Loss 0.2588, Accuracy 0.9200\n",
            "Epoch 50 | Training: Loss 0.1483, Accuracy 0.9478; Test: Loss 0.2601, Accuracy 0.9226\n"
          ]
        }
      ],
      "source": [
        "def correct(logits, y):\n",
        "    y_hat = logits.argmax(axis=1)\n",
        "    return (y_hat == y).float().sum()\n",
        "\n",
        "def train_and_evaluate(model, optimizer, loss_fn, train_iter, test_iter, device, num_epochs=1, scheduler=None):\n",
        "    train_accuracies, test_accuracies, train_losses, test_losses, batch_losses = [], [], [], [], []\n",
        "\n",
        "    for epoch in range(num_epochs):\n",
        "        model.train()\n",
        "        train_loss_sum, train_correct, n_train = 0.0, 0.0, 0\n",
        "        for X, y in train_iter:\n",
        "            X, y = X.to(device), y.to(device)\n",
        "            optimizer.zero_grad()\n",
        "            logits = model(X)\n",
        "            loss = loss_fn(logits, y)\n",
        "            loss.backward()\n",
        "            torch.nn.utils.clip_grad_norm_(model.parameters(), max_norm=0.7)\n",
        "            optimizer.step()\n",
        "\n",
        "            batch_loss = loss.item() * X.size(0)\n",
        "            train_loss_sum += batch_loss\n",
        "            train_correct += correct(logits, y).item()\n",
        "            n_train += y.size(0)\n",
        "            batch_losses.append(loss.item())\n",
        "\n",
        "        if scheduler:\n",
        "            scheduler.step()\n",
        "\n",
        "        train_loss = train_loss_sum / n_train\n",
        "        train_losses.append(train_loss)\n",
        "        train_accuracy = train_correct / n_train\n",
        "        train_accuracies.append(train_accuracy)\n",
        "\n",
        "        model.eval()\n",
        "        test_loss_sum, test_correct, n_test = 0.0, 0.0, 0\n",
        "        with torch.no_grad():\n",
        "            for X, y in test_iter:\n",
        "                X, y = X.to(device), y.to(device)\n",
        "                logits = model(X)\n",
        "                loss = loss_fn(logits, y)\n",
        "\n",
        "                test_loss_sum += loss.item() * X.size(0)\n",
        "                test_correct += correct(logits, y).item()\n",
        "                n_test += y.size(0)\n",
        "\n",
        "        test_loss = test_loss_sum / n_test\n",
        "        test_losses.append(test_loss)\n",
        "        test_accuracy = test_correct / n_test\n",
        "        test_accuracies.append(test_accuracy)\n",
        "\n",
        "        print(f'Epoch {epoch + 1} | Training: Loss {train_loss:.4f}, Accuracy {train_accuracy:.4f}; Test: Loss {test_loss:.4f}, Accuracy {test_accuracy:.4f}')\n",
        "\n",
        "    return train_accuracies, test_accuracies, train_losses, test_losses, batch_losses\n",
        "\n",
        "train_accuracies, test_accuracies, train_losses, test_losses, batch_losses = train_and_evaluate(\n",
        "    model, optimizer, loss_fn, train_iter, test_iter, device, 50, scheduler)\n"
      ]
    },
    {
      "cell_type": "markdown",
      "metadata": {
        "id": "Jc7Pi386Myiq"
      },
      "source": [
        "Cell 13 - The below expresses the losses per epoch."
      ]
    },
    {
      "cell_type": "code",
      "execution_count": 13,
      "metadata": {
        "colab": {
          "base_uri": "https://localhost:8080/",
          "height": 410
        },
        "id": "eUsiybcZ1HiU",
        "outputId": "3815181d-7d3e-475c-9880-c6b54a2279f6"
      },
      "outputs": [
        {
          "data": {
            "image/png": "[encoded data removed]",
            "text/plain": [
              "<Figure size 800x400 with 1 Axes>"
            ]
          },
          "metadata": {},
          "output_type": "display_data"
        }
      ],
      "source": [
        "plt.figure(figsize=(8, 4))\n",
        "\n",
        "# training & test loss\n",
        "plt.plot(train_losses, label='Training Loss')\n",
        "plt.plot(test_losses, label='Test Loss')\n",
        "plt.xlabel('Epoch')\n",
        "plt.ylabel('Loss')\n",
        "plt.title('Training & Test Loss')\n",
        "plt.legend()\n",
        "\n",
        "plt.show()"
      ]
    },
    {
      "cell_type": "markdown",
      "metadata": {
        "id": "4y42uKGjyRjn"
      },
      "source": [
        "Cell 14 - The below expresses the accuracies per epoch and the loss per training batch."
      ]
    },
    {
      "cell_type": "code",
      "execution_count": 14,
      "metadata": {
        "colab": {
          "base_uri": "https://localhost:8080/",
          "height": 252
        },
        "id": "9uzN0ecG2ayu",
        "outputId": "9c28fd27-8a24-44ba-8701-1960bd9ee4d4"
      },
      "outputs": [
        {
          "data": {
            "image/png": "[encoded data removed]",
            "text/plain": [
              "<Figure size 1500x400 with 2 Axes>"
            ]
          },
          "metadata": {},
          "output_type": "display_data"
        }
      ],
      "source": [
        "plt.figure(figsize=(15, 4))\n",
        "\n",
        "# training & test accuracy\n",
        "plt.subplot(1, 2, 1)\n",
        "plt.plot(train_accuracies, label='Training Accuracy')\n",
        "plt.plot(test_accuracies, label='Test Accuracy')\n",
        "plt.xlabel('Epoch')\n",
        "plt.title('Training & Test Accuracy')\n",
        "plt.legend()\n",
        "\n",
        "# batch loss\n",
        "plt.subplot(1, 2, 2)\n",
        "plt.plot(batch_losses)\n",
        "plt.xlabel('Batch')\n",
        "plt.title('Batch Loss')\n",
        "plt.legend(['Batch Loss'])\n",
        "\n",
        "plt.show()"
      ]
    }
  ],
  "metadata": {
    "accelerator": "GPU",
    "celltoolbar": "Slideshow",
    "colab": {
      "gpuType": "V100",
      "machine_shape": "hm",
      "provenance": []
    },
    "kernelspec": {
      "display_name": "Python 3",
      "name": "python3"
    },
    "language_info": {
      "codemirror_mode": {
        "name": "ipython",
        "version": 3
      },
      "file_extension": ".py",
      "mimetype": "text/x-python",
      "name": "python",
      "nbconvert_exporter": "python",
      "pygments_lexer": "ipython3",
      "version": "3.11.4"
    }
  },
  "nbformat": 4,
  "nbformat_minor": 0
}
